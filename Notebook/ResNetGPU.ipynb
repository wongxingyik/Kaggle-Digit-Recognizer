{
 "cells": [
  {
   "cell_type": "markdown",
   "id": "162c8b7c",
   "metadata": {},
   "source": [
    "## Import Libraries"
   ]
  },
  {
   "cell_type": "code",
   "execution_count": 1,
   "id": "c4b3a000",
   "metadata": {},
   "outputs": [],
   "source": [
    "import numpy as np\n",
    "import pandas as pd\n",
    "import matplotlib.pyplot as plt\n",
    "%matplotlib inline\n",
    "plt.style.use('seaborn')\n",
    "import seaborn as sns"
   ]
  },
  {
   "cell_type": "code",
   "execution_count": 2,
   "id": "1577c527",
   "metadata": {},
   "outputs": [],
   "source": [
    "from sklearn.model_selection import train_test_split\n",
    "from sklearn.preprocessing import StandardScaler, MinMaxScaler\n",
    "from sklearn.metrics import confusion_matrix\n",
    "import tensorflow as tf\n",
    "from tensorflow import keras"
   ]
  },
  {
   "cell_type": "code",
   "execution_count": 3,
   "id": "1f893292",
   "metadata": {},
   "outputs": [],
   "source": [
    "from keras import Sequential\n",
    "from keras.layers import BatchNormalization, Dropout, Flatten, Conv2D, MaxPool2D, Dense, Input, ZeroPadding2D, Activation, MaxPooling2D, Add,AveragePooling2D\n",
    "from keras.initializers import glorot_uniform\n",
    "from tensorflow.keras.optimizers import RMSprop\n",
    "from keras.datasets import mnist\n",
    "from keras import Model\n",
    "from keras.callbacks import ReduceLROnPlateau"
   ]
  },
  {
   "cell_type": "code",
   "execution_count": 4,
   "id": "1ebf2e76",
   "metadata": {},
   "outputs": [],
   "source": [
    "from keras.preprocessing.image import ImageDataGenerator\n",
    "from sklearn.metrics import accuracy_score"
   ]
  },
  {
   "cell_type": "code",
   "execution_count": 5,
   "id": "8c37901a",
   "metadata": {},
   "outputs": [
    {
     "data": {
      "text/plain": [
       "[PhysicalDevice(name='/physical_device:GPU:0', device_type='GPU')]"
      ]
     },
     "execution_count": 5,
     "metadata": {},
     "output_type": "execute_result"
    }
   ],
   "source": [
    "from tensorflow.python.client import device_lib\n",
    "tf.config.list_physical_devices('GPU')"
   ]
  },
  {
   "cell_type": "markdown",
   "id": "9fe607ff",
   "metadata": {},
   "source": [
    "## Import Dataset\n"
   ]
  },
  {
   "cell_type": "code",
   "execution_count": 6,
   "id": "c6595654",
   "metadata": {},
   "outputs": [],
   "source": [
    "train = pd.read_csv('../train.csv')\n",
    "test = pd.read_csv('../test.csv')"
   ]
  },
  {
   "cell_type": "code",
   "execution_count": 7,
   "id": "5f4e95e4",
   "metadata": {
    "scrolled": true
   },
   "outputs": [
    {
     "data": {
      "text/html": [
       "<div>\n",
       "<style scoped>\n",
       "    .dataframe tbody tr th:only-of-type {\n",
       "        vertical-align: middle;\n",
       "    }\n",
       "\n",
       "    .dataframe tbody tr th {\n",
       "        vertical-align: top;\n",
       "    }\n",
       "\n",
       "    .dataframe thead th {\n",
       "        text-align: right;\n",
       "    }\n",
       "</style>\n",
       "<table border=\"1\" class=\"dataframe\">\n",
       "  <thead>\n",
       "    <tr style=\"text-align: right;\">\n",
       "      <th></th>\n",
       "      <th>label</th>\n",
       "      <th>pixel0</th>\n",
       "      <th>pixel1</th>\n",
       "      <th>pixel2</th>\n",
       "      <th>pixel3</th>\n",
       "      <th>pixel4</th>\n",
       "      <th>pixel5</th>\n",
       "      <th>pixel6</th>\n",
       "      <th>pixel7</th>\n",
       "      <th>pixel8</th>\n",
       "      <th>...</th>\n",
       "      <th>pixel774</th>\n",
       "      <th>pixel775</th>\n",
       "      <th>pixel776</th>\n",
       "      <th>pixel777</th>\n",
       "      <th>pixel778</th>\n",
       "      <th>pixel779</th>\n",
       "      <th>pixel780</th>\n",
       "      <th>pixel781</th>\n",
       "      <th>pixel782</th>\n",
       "      <th>pixel783</th>\n",
       "    </tr>\n",
       "  </thead>\n",
       "  <tbody>\n",
       "    <tr>\n",
       "      <th>0</th>\n",
       "      <td>1</td>\n",
       "      <td>0</td>\n",
       "      <td>0</td>\n",
       "      <td>0</td>\n",
       "      <td>0</td>\n",
       "      <td>0</td>\n",
       "      <td>0</td>\n",
       "      <td>0</td>\n",
       "      <td>0</td>\n",
       "      <td>0</td>\n",
       "      <td>...</td>\n",
       "      <td>0</td>\n",
       "      <td>0</td>\n",
       "      <td>0</td>\n",
       "      <td>0</td>\n",
       "      <td>0</td>\n",
       "      <td>0</td>\n",
       "      <td>0</td>\n",
       "      <td>0</td>\n",
       "      <td>0</td>\n",
       "      <td>0</td>\n",
       "    </tr>\n",
       "    <tr>\n",
       "      <th>1</th>\n",
       "      <td>0</td>\n",
       "      <td>0</td>\n",
       "      <td>0</td>\n",
       "      <td>0</td>\n",
       "      <td>0</td>\n",
       "      <td>0</td>\n",
       "      <td>0</td>\n",
       "      <td>0</td>\n",
       "      <td>0</td>\n",
       "      <td>0</td>\n",
       "      <td>...</td>\n",
       "      <td>0</td>\n",
       "      <td>0</td>\n",
       "      <td>0</td>\n",
       "      <td>0</td>\n",
       "      <td>0</td>\n",
       "      <td>0</td>\n",
       "      <td>0</td>\n",
       "      <td>0</td>\n",
       "      <td>0</td>\n",
       "      <td>0</td>\n",
       "    </tr>\n",
       "    <tr>\n",
       "      <th>2</th>\n",
       "      <td>1</td>\n",
       "      <td>0</td>\n",
       "      <td>0</td>\n",
       "      <td>0</td>\n",
       "      <td>0</td>\n",
       "      <td>0</td>\n",
       "      <td>0</td>\n",
       "      <td>0</td>\n",
       "      <td>0</td>\n",
       "      <td>0</td>\n",
       "      <td>...</td>\n",
       "      <td>0</td>\n",
       "      <td>0</td>\n",
       "      <td>0</td>\n",
       "      <td>0</td>\n",
       "      <td>0</td>\n",
       "      <td>0</td>\n",
       "      <td>0</td>\n",
       "      <td>0</td>\n",
       "      <td>0</td>\n",
       "      <td>0</td>\n",
       "    </tr>\n",
       "    <tr>\n",
       "      <th>3</th>\n",
       "      <td>4</td>\n",
       "      <td>0</td>\n",
       "      <td>0</td>\n",
       "      <td>0</td>\n",
       "      <td>0</td>\n",
       "      <td>0</td>\n",
       "      <td>0</td>\n",
       "      <td>0</td>\n",
       "      <td>0</td>\n",
       "      <td>0</td>\n",
       "      <td>...</td>\n",
       "      <td>0</td>\n",
       "      <td>0</td>\n",
       "      <td>0</td>\n",
       "      <td>0</td>\n",
       "      <td>0</td>\n",
       "      <td>0</td>\n",
       "      <td>0</td>\n",
       "      <td>0</td>\n",
       "      <td>0</td>\n",
       "      <td>0</td>\n",
       "    </tr>\n",
       "    <tr>\n",
       "      <th>4</th>\n",
       "      <td>0</td>\n",
       "      <td>0</td>\n",
       "      <td>0</td>\n",
       "      <td>0</td>\n",
       "      <td>0</td>\n",
       "      <td>0</td>\n",
       "      <td>0</td>\n",
       "      <td>0</td>\n",
       "      <td>0</td>\n",
       "      <td>0</td>\n",
       "      <td>...</td>\n",
       "      <td>0</td>\n",
       "      <td>0</td>\n",
       "      <td>0</td>\n",
       "      <td>0</td>\n",
       "      <td>0</td>\n",
       "      <td>0</td>\n",
       "      <td>0</td>\n",
       "      <td>0</td>\n",
       "      <td>0</td>\n",
       "      <td>0</td>\n",
       "    </tr>\n",
       "  </tbody>\n",
       "</table>\n",
       "<p>5 rows × 785 columns</p>\n",
       "</div>"
      ],
      "text/plain": [
       "   label  pixel0  pixel1  pixel2  pixel3  pixel4  pixel5  pixel6  pixel7  \\\n",
       "0      1       0       0       0       0       0       0       0       0   \n",
       "1      0       0       0       0       0       0       0       0       0   \n",
       "2      1       0       0       0       0       0       0       0       0   \n",
       "3      4       0       0       0       0       0       0       0       0   \n",
       "4      0       0       0       0       0       0       0       0       0   \n",
       "\n",
       "   pixel8  ...  pixel774  pixel775  pixel776  pixel777  pixel778  pixel779  \\\n",
       "0       0  ...         0         0         0         0         0         0   \n",
       "1       0  ...         0         0         0         0         0         0   \n",
       "2       0  ...         0         0         0         0         0         0   \n",
       "3       0  ...         0         0         0         0         0         0   \n",
       "4       0  ...         0         0         0         0         0         0   \n",
       "\n",
       "   pixel780  pixel781  pixel782  pixel783  \n",
       "0         0         0         0         0  \n",
       "1         0         0         0         0  \n",
       "2         0         0         0         0  \n",
       "3         0         0         0         0  \n",
       "4         0         0         0         0  \n",
       "\n",
       "[5 rows x 785 columns]"
      ]
     },
     "execution_count": 7,
     "metadata": {},
     "output_type": "execute_result"
    }
   ],
   "source": [
    "train.head()"
   ]
  },
  {
   "cell_type": "code",
   "execution_count": 8,
   "id": "9735877e",
   "metadata": {},
   "outputs": [],
   "source": [
    "y = train.label\n",
    "train = train.drop(columns='label')"
   ]
  },
  {
   "cell_type": "code",
   "execution_count": 9,
   "id": "1c947079",
   "metadata": {},
   "outputs": [
    {
     "name": "stdout",
     "output_type": "stream",
     "text": [
      "Train Shape: (42000, 784)\n",
      "Test Shape: (28000, 784)\n"
     ]
    }
   ],
   "source": [
    "print(f'Train Shape: {train.shape}')\n",
    "print(f'Test Shape: {test.shape}')"
   ]
  },
  {
   "cell_type": "code",
   "execution_count": 10,
   "id": "80a3afe2",
   "metadata": {},
   "outputs": [],
   "source": [
    "train = train/255\n",
    "test = test/255"
   ]
  },
  {
   "cell_type": "code",
   "execution_count": null,
   "id": "68e2bb3e",
   "metadata": {},
   "outputs": [],
   "source": []
  },
  {
   "cell_type": "markdown",
   "id": "291e89e7",
   "metadata": {},
   "source": [
    "### PCA"
   ]
  },
  {
   "cell_type": "code",
   "execution_count": 11,
   "id": "3c5815d8",
   "metadata": {},
   "outputs": [],
   "source": [
    "# # Standardize the data\n",
    "# StdSc = StandardScaler()\n",
    "# X_std = StdSc.fit_transform(train.values)\n",
    "\n",
    "# # Calculating Eigenvectors and eigenvalues of Cov matirx\n",
    "# mean_vec = np.mean(X_std, axis=0)\n",
    "# cov_mat = np.cov(X_std.T)\n",
    "# eig_vals, eig_vecs = np.linalg.eig(cov_mat)\n",
    "# # Create a list of (eigenvalue, eigenvector) tuples\n",
    "# eig_pairs = [ (np.abs(eig_vals[i]),eig_vecs[:,i]) for i in range(len(eig_vals))]\n",
    "\n",
    "# # Sort the eigenvalue, eigenvector pair from high to low\n",
    "# eig_pairs.sort(key = lambda x: x[0], reverse= True)\n",
    "\n",
    "# # Calculation of Explained Variance from the eigenvalues\n",
    "# tot = sum(eig_vals)\n",
    "# var_exp = [(i/tot)*100 for i in sorted(eig_vals, reverse=True)] # Individual explained variance\n",
    "# cum_var_exp = np.cumsum(var_exp) # Cumulative explained variance\n",
    "# plt.plot(cum_var_exp)"
   ]
  },
  {
   "cell_type": "code",
   "execution_count": 12,
   "id": "81c6b4b0",
   "metadata": {},
   "outputs": [],
   "source": [
    "# from sklearn.decomposition import PCA"
   ]
  },
  {
   "cell_type": "code",
   "execution_count": 13,
   "id": "e932fe31",
   "metadata": {},
   "outputs": [],
   "source": [
    "# #Standardize training before PCA\n",
    "# StdSc = StandardScaler()\n",
    "# train_std = StdSc.fit_transform(train.values)\n",
    "# pca = PCA(200)\n",
    "# train_decom = pca.fit_transform(train_std)\n",
    "# train_recon = pca.inverse_transform(train_decom)"
   ]
  },
  {
   "cell_type": "code",
   "execution_count": 14,
   "id": "d891836c",
   "metadata": {},
   "outputs": [],
   "source": [
    "# for i in range(0,5,1):\n",
    "#     plt.subplot(1,2,1)\n",
    "#     plt.imshow(train.values[i].reshape(28,28), cmap='jet')\n",
    "#     plt.subplot(1,2,2)\n",
    "#     plt.imshow(train_recon[i].reshape(28,28), cmap='jet')\n",
    "#     plt.show()"
   ]
  },
  {
   "cell_type": "markdown",
   "id": "d06098d6",
   "metadata": {},
   "source": [
    "### ResNet"
   ]
  },
  {
   "cell_type": "code",
   "execution_count": 15,
   "id": "98f088ec",
   "metadata": {},
   "outputs": [],
   "source": [
    "# GRADED FUNCTION: identity_block\n",
    "\n",
    "def identity_block(X, f, filters, stage, block):\n",
    "    \"\"\"\n",
    "    Implementation of the identity block as defined in Figure 4\n",
    "    \n",
    "    Arguments:\n",
    "    X -- input tensor of shape (m, n_H_prev, n_W_prev, n_C_prev)\n",
    "    f -- integer, specifying the shape of the middle CONV's window for the main path\n",
    "    filters -- python list of integers, defining the number of filters in the CONV layers of the main path\n",
    "    stage -- integer, used to name the layers, depending on their position in the network\n",
    "    block -- string/character, used to name the layers, depending on their position in the network\n",
    "    \n",
    "    Returns:\n",
    "    X -- output of the identity block, tensor of shape (n_H, n_W, n_C)\n",
    "    \"\"\"\n",
    "    \n",
    "    # defining name basis\n",
    "    conv_name_base = 'res' + str(stage) + block + '_branch'\n",
    "    bn_name_base = 'bn' + str(stage) + block + '_branch'\n",
    "    \n",
    "    # Retrieve Filters\n",
    "    F1, F2, F3 = filters\n",
    "    \n",
    "    # Save the input value. You'll need this later to add back to the main path. \n",
    "    X_shortcut = X\n",
    "    \n",
    "    # First component of main path\n",
    "    X = Conv2D(filters = F1, kernel_size = (1, 1), strides = (1,1), padding = 'same', name = conv_name_base + '2a', kernel_initializer = glorot_uniform(seed=0))(X)\n",
    "    X = BatchNormalization(axis = 3, name = bn_name_base + '2a')(X)\n",
    "    X = Activation('relu')(X)\n",
    "    \n",
    "    # Second component of main path (≈3 lines)\n",
    "    X = Conv2D(filters = F2, kernel_size = (f, f), strides = (1, 1), padding = 'same', name = conv_name_base + '2b', kernel_initializer = glorot_uniform(seed=0))(X)\n",
    "    X = BatchNormalization(axis = 3, name = bn_name_base + '2b')(X)\n",
    "    X = Activation('relu')(X)\n",
    "\n",
    "    # Third component of main path \n",
    "    X = Conv2D(filters = F3, kernel_size = (1, 1), strides = (1, 1), padding = 'same', name = conv_name_base + '2c', kernel_initializer = glorot_uniform(seed=0))(X)\n",
    "    X = BatchNormalization(axis = 3, name = bn_name_base + '2c')(X)\n",
    "\n",
    "    #Add shortcut value to main path, and pass it through a RELU activation\n",
    "    X = Add()([X, X_shortcut])\n",
    "    X = Activation('relu')(X)\n",
    "    \n",
    "    \n",
    "    return X"
   ]
  },
  {
   "cell_type": "code",
   "execution_count": 16,
   "id": "f6f3b72d",
   "metadata": {},
   "outputs": [],
   "source": [
    "def convolutional_block(X, f, filters, stage, block, s = 1):\n",
    "    \"\"\"\n",
    "    Implementation of the convolutional block as defined in Figure 4\n",
    "    \n",
    "    Arguments:\n",
    "    X -- input tensor of shape (m, n_H_prev, n_W_prev, n_C_prev)\n",
    "    f -- integer, specifying the shape of the middle CONV's window for the main path\n",
    "    filters -- python list of integers, defining the number of filters in the CONV layers of the main path\n",
    "    stage -- integer, used to name the layers, depending on their position in the network\n",
    "    block -- string/character, used to name the layers, depending on their position in the network\n",
    "    s -- Integer, specifying the stride to be used\n",
    "    \n",
    "    Returns:\n",
    "    X -- output of the convolutional block, tensor of shape (n_H, n_W, n_C)\n",
    "    \"\"\"\n",
    "    \n",
    "    # defining name basis\n",
    "    conv_name_base = 'res' + str(stage) + block + '_branch'\n",
    "    bn_name_base = 'bn' + str(stage) + block + '_branch'\n",
    "    \n",
    "    # Retrieve Filters\n",
    "    F1, F2, F3 = filters\n",
    "    \n",
    "    # Save the input value\n",
    "    X_shortcut = X\n",
    "\n",
    "    # First component of main path \n",
    "    X = Conv2D(F1, (1, 1), strides = (s,s), padding = 'same', name = conv_name_base + '2a', kernel_initializer = glorot_uniform(seed=0))(X)\n",
    "    X = BatchNormalization(axis = 3, name = bn_name_base + '2a')(X)\n",
    "    X = Activation('relu')(X)\n",
    "    \n",
    "\n",
    "\n",
    "    # Second component of main path\n",
    "    X = Conv2D(F2, (f,f), strides =(1,1), padding = 'same', name = conv_name_base+'2b', kernel_initializer = glorot_uniform(seed=0))(X)\n",
    "    X = BatchNormalization(axis = 3, name = bn_name_base+'2b')(X)\n",
    "    X = Activation('relu')(X)\n",
    "\n",
    "    # Third component of main path \n",
    "    X = Conv2D(F3, (1,1), strides = (1,1), padding = 'same', name = conv_name_base+'2c', kernel_initializer = glorot_uniform(seed=0))(X)\n",
    "    X = BatchNormalization(axis = 3, name = bn_name_base+'2c')(X)\n",
    "\n",
    "    # Shortcut path\n",
    "    X_shortcut = Conv2D(F3, (1,1), strides = (s,s), padding = 'same', name = conv_name_base+'1', kernel_initializer = glorot_uniform(seed=0))(X_shortcut)\n",
    "    X_shortcut = BatchNormalization(axis = 3, name = bn_name_base+'1')(X_shortcut)\n",
    "\n",
    "    # Final step: Add shortcut value to main path, and pass it through a RELU activation \n",
    "    X = Add()([X_shortcut, X])\n",
    "    X = Activation('relu')(X)\n",
    "    \n",
    "    return X"
   ]
  },
  {
   "cell_type": "code",
   "execution_count": 17,
   "id": "9ea5bc56",
   "metadata": {},
   "outputs": [],
   "source": [
    "# GRADED FUNCTION: ResNet50\n",
    "\n",
    "def ResNet50(input_shape = (28, 28, 1), classes = 10):\n",
    "    \"\"\"\n",
    "    Implementation of the popular ResNet50 the following architecture:\n",
    "    CONV2D -> BATCHNORM -> RELU -> MAXPOOL -> CONVBLOCK -> IDBLOCK*2 -> CONVBLOCK -> IDBLOCK*3\n",
    "    -> CONVBLOCK -> IDBLOCK*5 -> CONVBLOCK -> IDBLOCK*2 -> AVGPOOL -> TOPLAYER\n",
    "\n",
    "    Arguments:\n",
    "    input_shape -- shape of the images of the dataset\n",
    "    classes -- integer, number of classes\n",
    "\n",
    "    Returns:\n",
    "    model -- a Model() instance in Keras\n",
    "    \"\"\"\n",
    "    \n",
    "    # Define the input as a tensor with shape input_shape\n",
    "    X_input = Input(input_shape)\n",
    "\n",
    "    \n",
    "    # Zero-Padding\n",
    "    X = ZeroPadding2D((3, 3))(X_input)\n",
    "    \n",
    "    # Stage 1\n",
    "    X = Conv2D(64, (7, 7), strides = (2, 2), name = 'conv1', kernel_initializer = glorot_uniform(seed=0))(X)\n",
    "    X = BatchNormalization(axis = 3, name = 'bn_conv1')(X)\n",
    "    X = Activation('relu')(X)\n",
    "    X = MaxPooling2D((3, 3), strides=(2, 2))(X)\n",
    "\n",
    "    # Stage 2\n",
    "    X = convolutional_block(X, f = 3, filters = [64, 64, 64], stage = 2, block='a', s = 1)\n",
    "    X = identity_block(X, 3, [64, 64, 64], stage=2, block='b')\n",
    "    X = identity_block(X, 3, [64, 64, 64], stage=2, block='c')\n",
    "    X = identity_block(X, 3, [64, 64, 64], stage = 2, block='d')\n",
    "\n",
    "    # Stage 3\n",
    "    X = convolutional_block(X, f = 3, filters = [64, 64, 128], stage = 3, block = 'a', s = 1)\n",
    "    X = identity_block(X, 3, [64, 64, 128], stage = 3, block='b')\n",
    "    X = identity_block(X, 3, [64, 64, 128], stage = 3, block='c')\n",
    "    X = identity_block(X, 3, [64, 64, 128], stage = 3, block='d')\n",
    "\n",
    "    # Stage 4 \n",
    "    X = convolutional_block(X, f = 3, filters = [64, 64, 256], stage = 4, block = 'a', s = 1)\n",
    "    X = identity_block(X, 3, [64, 64, 256], stage = 4, block='b')\n",
    "    X = identity_block(X, 3, [64, 64, 256], stage = 4, block='c')\n",
    "    X = identity_block(X, 3, [64, 64, 256], stage = 4, block='d')\n",
    "\n",
    "\n",
    "    # AVGPOOL \n",
    "    X = AveragePooling2D(pool_size=(2, 2), name='avg_pool')(X)\n",
    "\n",
    "    # output layer\n",
    "    X = Flatten()(X)\n",
    "    X = Dense(128, activation='relu')(X)\n",
    "    X = Dense(64, activation='relu')(X)\n",
    "    X = Dense(classes, activation='softmax', name='fc' + str(classes), kernel_initializer = glorot_uniform(seed=0))(X)\n",
    "    \n",
    "    \n",
    "    # Create model\n",
    "    model = Model(inputs = X_input, outputs = X, name='ResNet50')\n",
    "\n",
    "    return model"
   ]
  },
  {
   "cell_type": "code",
   "execution_count": 18,
   "id": "3e9b9fd3",
   "metadata": {},
   "outputs": [],
   "source": [
    "model = ResNet50(input_shape = (28, 28, 1), classes = 10)\n",
    "model.compile(optimizer='adam', loss='categorical_crossentropy', metrics=['accuracy'])"
   ]
  },
  {
   "cell_type": "code",
   "execution_count": 19,
   "id": "80067ffb",
   "metadata": {},
   "outputs": [],
   "source": [
    "from keras.utils.np_utils import to_categorical # convert to one-hot-encoding"
   ]
  },
  {
   "cell_type": "code",
   "execution_count": 20,
   "id": "cd1eaa8b",
   "metadata": {},
   "outputs": [],
   "source": [
    "train = train.to_numpy().reshape(-1,28,28,1)\n",
    "test = test.to_numpy().reshape(-1,28,28,1)"
   ]
  },
  {
   "cell_type": "code",
   "execution_count": 21,
   "id": "4e30440e",
   "metadata": {},
   "outputs": [],
   "source": [
    "y = to_categorical(y, num_classes = 10)\n",
    "X_train, X_val, Y_train, Y_val = train_test_split(train, y, test_size = 0.1, random_state=2)"
   ]
  },
  {
   "cell_type": "code",
   "execution_count": 22,
   "id": "5c8abbb2",
   "metadata": {},
   "outputs": [],
   "source": [
    "StdSc_2 = StandardScaler()\n",
    "X_train = StdSc_2.fit_transform(X_train)\n",
    "X_val = StdSc_2.transform(X_val)"
   ]
  },
  {
   "cell_type": "code",
   "execution_count": 23,
   "id": "791fb78c",
   "metadata": {},
   "outputs": [],
   "source": [
    "# X_train = X_train.reshape(-1,28,28,1)\n",
    "# X_val = X_val.reshape(-1,28,28,1)"
   ]
  },
  {
   "cell_type": "code",
   "execution_count": 24,
   "id": "7e95cbb6",
   "metadata": {},
   "outputs": [],
   "source": [
    "#Data Augmentation \n",
    "datagen = ImageDataGenerator(\n",
    "        featurewise_center=False, # set input mean to 0 over the dataset\n",
    "        samplewise_center=False,  # set each sample mean to 0\n",
    "        featurewise_std_normalization=False,  # divide inputs by std of the dataset\n",
    "        samplewise_std_normalization=False,  # divide each input by its std\n",
    "        zca_whitening=False,  # apply ZCA whitening\n",
    "        rotation_range= 10,  # randomly rotate images in the range (degrees, 0 to 180)\n",
    "        zoom_range = 0.1, # Randomly zoom image \n",
    "        width_shift_range=0.1,  # randomly shift images horizontally (fraction of total width)\n",
    "        height_shift_range=0.1,  # randomly shift images vertically (fraction of total height)\n",
    "        horizontal_flip=False,  # randomly flip images\n",
    "        vertical_flip=False)  # randomly flip images\n",
    "datagen.fit(X_train)"
   ]
  },
  {
   "cell_type": "code",
   "execution_count": 25,
   "id": "702beb99",
   "metadata": {
    "scrolled": true
   },
   "outputs": [
    {
     "data": {
      "image/png": "[encoded data removed]",
      "text/plain": [
       "<Figure size 576x396 with 1 Axes>"
      ]
     },
     "metadata": {},
     "output_type": "display_data"
    }
   ],
   "source": [
    "g = plt.imshow(X_train[180][:,:,0])"
   ]
  },
  {
   "cell_type": "code",
   "execution_count": 26,
   "id": "161dfd02",
   "metadata": {},
   "outputs": [],
   "source": [
    "# from tensorflow.keras.utils import plot_model\n",
    "# plot_model(model, to_file='model.png', show_shapes=True, show_layer_names=True)\n",
    "# # from IPython.display import Image\n",
    "# # Image(\"model.png\")"
   ]
  },
  {
   "cell_type": "code",
   "execution_count": 27,
   "id": "d0dfefb3",
   "metadata": {},
   "outputs": [],
   "source": [
    "# X_train.shape"
   ]
  },
  {
   "cell_type": "code",
   "execution_count": 28,
   "id": "ab15935f",
   "metadata": {},
   "outputs": [],
   "source": [
    "# Y_train.shape"
   ]
  },
  {
   "cell_type": "code",
   "execution_count": 29,
   "id": "1453cfeb",
   "metadata": {},
   "outputs": [],
   "source": [
    "lrr = ReduceLROnPlateau(monitor = 'val_accuracy', patience = 3, verbose = 1, factor = 0.5, min_lr = 0.00001)"
   ]
  },
  {
   "cell_type": "code",
   "execution_count": 30,
   "id": "0ba612ba",
   "metadata": {},
   "outputs": [
    {
     "name": "stdout",
     "output_type": "stream",
     "text": [
      "Epoch 1/40\n",
      "295/295 [==============================] - 23s 61ms/step - loss: 0.4531 - accuracy: 0.8582 - val_loss: 7.5998 - val_accuracy: 0.1186\n",
      "Epoch 2/40\n",
      "295/295 [==============================] - 17s 59ms/step - loss: 0.1052 - accuracy: 0.9688 - val_loss: 0.1357 - val_accuracy: 0.9590\n",
      "Epoch 3/40\n",
      "295/295 [==============================] - 17s 59ms/step - loss: 0.0805 - accuracy: 0.9761 - val_loss: 0.0985 - val_accuracy: 0.9724\n",
      "Epoch 4/40\n",
      "295/295 [==============================] - 18s 60ms/step - loss: 0.0638 - accuracy: 0.9817 - val_loss: 0.0996 - val_accuracy: 0.9726\n",
      "Epoch 5/40\n",
      "295/295 [==============================] - 18s 60ms/step - loss: 0.0576 - accuracy: 0.9823 - val_loss: 0.0987 - val_accuracy: 0.9693\n",
      "Epoch 6/40\n",
      "295/295 [==============================] - 18s 61ms/step - loss: 0.0560 - accuracy: 0.9837 - val_loss: 0.0402 - val_accuracy: 0.9883\n",
      "Epoch 7/40\n",
      "295/295 [==============================] - 18s 59ms/step - loss: 0.0491 - accuracy: 0.9857 - val_loss: 0.0562 - val_accuracy: 0.9860\n",
      "Epoch 8/40\n",
      "295/295 [==============================] - 18s 61ms/step - loss: 0.0479 - accuracy: 0.9864 - val_loss: 0.0642 - val_accuracy: 0.9836\n",
      "Epoch 9/40\n",
      "295/295 [==============================] - 18s 61ms/step - loss: 0.0446 - accuracy: 0.9871 - val_loss: 0.0417 - val_accuracy: 0.98830s - loss: 0.0444 \n",
      "\n",
      "Epoch 00009: ReduceLROnPlateau reducing learning rate to 0.0005000000237487257.\n",
      "Epoch 10/40\n",
      "295/295 [==============================] - 18s 61ms/step - loss: 0.0268 - accuracy: 0.9924 - val_loss: 0.0425 - val_accuracy: 0.9867\n",
      "Epoch 11/40\n",
      "295/295 [==============================] - 18s 61ms/step - loss: 0.0259 - accuracy: 0.9920 - val_loss: 0.0311 - val_accuracy: 0.9902\n",
      "Epoch 12/40\n",
      "295/295 [==============================] - 18s 61ms/step - loss: 0.0237 - accuracy: 0.9932 - val_loss: 0.0388 - val_accuracy: 0.9902\n",
      "Epoch 13/40\n",
      "295/295 [==============================] - 18s 63ms/step - loss: 0.0237 - accuracy: 0.9926 - val_loss: 0.0504 - val_accuracy: 0.9881\n",
      "Epoch 14/40\n",
      "295/295 [==============================] - 19s 63ms/step - loss: 0.0249 - accuracy: 0.9924 - val_loss: 0.0390 - val_accuracy: 0.9907\n",
      "Epoch 15/40\n",
      "295/295 [==============================] - 18s 62ms/step - loss: 0.0233 - accuracy: 0.9925 - val_loss: 0.0386 - val_accuracy: 0.9895accuracy: \n",
      "Epoch 16/40\n",
      "295/295 [==============================] - 18s 63ms/step - loss: 0.0276 - accuracy: 0.9916 - val_loss: 0.0382 - val_accuracy: 0.9881\n",
      "Epoch 17/40\n",
      "295/295 [==============================] - 18s 61ms/step - loss: 0.0244 - accuracy: 0.9929 - val_loss: 0.0339 - val_accuracy: 0.9910\n",
      "Epoch 18/40\n",
      "295/295 [==============================] - 19s 63ms/step - loss: 0.0251 - accuracy: 0.9922 - val_loss: 0.0446 - val_accuracy: 0.9898\n",
      "Epoch 19/40\n",
      "295/295 [==============================] - 19s 63ms/step - loss: 0.0247 - accuracy: 0.9927 - val_loss: 0.0345 - val_accuracy: 0.9890\n",
      "Epoch 20/40\n",
      "295/295 [==============================] - 19s 64ms/step - loss: 0.0248 - accuracy: 0.9927 - val_loss: 0.0409 - val_accuracy: 0.9893\n",
      "\n",
      "Epoch 00020: ReduceLROnPlateau reducing learning rate to 0.0002500000118743628.\n",
      "Epoch 21/40\n",
      "295/295 [==============================] - 19s 63ms/step - loss: 0.0157 - accuracy: 0.9952 - val_loss: 0.0259 - val_accuracy: 0.9931\n",
      "Epoch 22/40\n",
      "295/295 [==============================] - 18s 62ms/step - loss: 0.0124 - accuracy: 0.9958 - val_loss: 0.0200 - val_accuracy: 0.9945\n",
      "Epoch 23/40\n",
      "295/295 [==============================] - 19s 64ms/step - loss: 0.0127 - accuracy: 0.9959 - val_loss: 0.0232 - val_accuracy: 0.9938\n",
      "Epoch 24/40\n",
      "295/295 [==============================] - 19s 63ms/step - loss: 0.0116 - accuracy: 0.9963 - val_loss: 0.0284 - val_accuracy: 0.9936\n",
      "Epoch 25/40\n",
      "295/295 [==============================] - 19s 64ms/step - loss: 0.0122 - accuracy: 0.9963 - val_loss: 0.0331 - val_accuracy: 0.9921\n",
      "\n",
      "Epoch 00025: ReduceLROnPlateau reducing learning rate to 0.0001250000059371814.\n",
      "Epoch 26/40\n",
      "295/295 [==============================] - 19s 65ms/step - loss: 0.0105 - accuracy: 0.9968 - val_loss: 0.0203 - val_accuracy: 0.9943\n",
      "Epoch 27/40\n",
      "295/295 [==============================] - 19s 64ms/step - loss: 0.0082 - accuracy: 0.9974 - val_loss: 0.0206 - val_accuracy: 0.9945\n",
      "Epoch 28/40\n",
      "295/295 [==============================] - 19s 64ms/step - loss: 0.0068 - accuracy: 0.9980 - val_loss: 0.0236 - val_accuracy: 0.9936\n",
      "\n",
      "Epoch 00028: ReduceLROnPlateau reducing learning rate to 6.25000029685907e-05.\n",
      "Epoch 29/40\n",
      "295/295 [==============================] - 19s 64ms/step - loss: 0.0052 - accuracy: 0.9984 - val_loss: 0.0230 - val_accuracy: 0.9936\n",
      "Epoch 30/40\n",
      "295/295 [==============================] - 18s 62ms/step - loss: 0.0065 - accuracy: 0.9977 - val_loss: 0.0278 - val_accuracy: 0.9940\n",
      "Epoch 31/40\n",
      "295/295 [==============================] - 18s 61ms/step - loss: 0.0059 - accuracy: 0.9984 - val_loss: 0.0247 - val_accuracy: 0.9950\n",
      "Epoch 32/40\n",
      "295/295 [==============================] - 19s 63ms/step - loss: 0.0058 - accuracy: 0.9981 - val_loss: 0.0242 - val_accuracy: 0.9943\n",
      "Epoch 33/40\n",
      "295/295 [==============================] - 19s 65ms/step - loss: 0.0054 - accuracy: 0.9984 - val_loss: 0.0239 - val_accuracy: 0.9940\n",
      "Epoch 34/40\n",
      "295/295 [==============================] - 19s 64ms/step - loss: 0.0052 - accuracy: 0.9984 - val_loss: 0.0228 - val_accuracy: 0.9957\n",
      "Epoch 35/40\n",
      "295/295 [==============================] - 19s 63ms/step - loss: 0.0048 - accuracy: 0.9985 - val_loss: 0.0284 - val_accuracy: 0.9948oss: 0.0047  - ETA: 1s - loss: 0.0046 - ac\n",
      "Epoch 36/40\n",
      "295/295 [==============================] - 18s 62ms/step - loss: 0.0054 - accuracy: 0.9984 - val_loss: 0.0256 - val_accuracy: 0.9948\n",
      "Epoch 37/40\n",
      "295/295 [==============================] - 19s 65ms/step - loss: 0.0035 - accuracy: 0.9990 - val_loss: 0.0249 - val_accuracy: 0.9940\n",
      "\n",
      "Epoch 00037: ReduceLROnPlateau reducing learning rate to 3.125000148429535e-05.\n",
      "Epoch 38/40\n",
      "295/295 [==============================] - 19s 63ms/step - loss: 0.0040 - accuracy: 0.9987 - val_loss: 0.0245 - val_accuracy: 0.9948\n",
      "Epoch 39/40\n",
      "295/295 [==============================] - 19s 64ms/step - loss: 0.0039 - accuracy: 0.9989 - val_loss: 0.0266 - val_accuracy: 0.9948\n",
      "Epoch 40/40\n",
      "295/295 [==============================] - 19s 65ms/step - loss: 0.0036 - accuracy: 0.9988 - val_loss: 0.0258 - val_accuracy: 0.9948\n",
      "\n",
      "Epoch 00040: ReduceLROnPlateau reducing learning rate to 1.5625000742147677e-05.\n"
     ]
    }
   ],
   "source": [
    "epochs = 40\n",
    "batch_size = 128\n",
    "history = model.fit(datagen.flow(X_train, Y_train, batch_size=batch_size),\n",
    "                    validation_data=(X_val, Y_val),\n",
    "                    steps_per_epoch=(len(X_train) // batch_size), \n",
    "                    epochs=epochs, \n",
    "                    callbacks=[lrr])"
   ]
  },
  {
   "cell_type": "code",
   "execution_count": 31,
   "id": "3c848957",
   "metadata": {},
   "outputs": [
    {
     "data": {
      "image/png": "[encoded data removed]",
      "text/plain": [
       "<Figure size 576x396 with 2 Axes>"
      ]
     },
     "metadata": {},
     "output_type": "display_data"
    }
   ],
   "source": [
    "# Draw a confusion matrix that can be used to observe high false positives\n",
    "import itertools\n",
    "def plot_confusion_matrix(cm, classes,\n",
    "                          normalize=False,\n",
    "                          title='Confusion matrix',\n",
    "                          cmap=plt.cm.Blues):\n",
    "    \"\"\"\n",
    "    This function prints and plots the confusion matrix.\n",
    "    Normalization can be applied by setting `normalize=True`.\n",
    "    \"\"\"\n",
    "    plt.imshow(cm, interpolation='nearest', cmap=cmap)\n",
    "    plt.title(title)\n",
    "    plt.colorbar()\n",
    "    tick_marks = np.arange(len(classes))\n",
    "    plt.xticks(tick_marks, classes, rotation=45)\n",
    "    plt.yticks(tick_marks, classes)\n",
    "\n",
    "    if normalize:\n",
    "        cm = cm.astype('float') / cm.sum(axis=1)[:, np.newaxis]\n",
    "\n",
    "    thresh = cm.max() / 2.\n",
    "    for i, j in itertools.product(range(cm.shape[0]), range(cm.shape[1])):\n",
    "        plt.text(j, i, cm[i, j],\n",
    "                 horizontalalignment=\"center\",\n",
    "                 color=\"white\" if cm[i, j] > thresh else \"black\")\n",
    "\n",
    "    plt.tight_layout()\n",
    "    plt.ylabel('True label')\n",
    "    plt.xlabel('Predicted label')\n",
    "\n",
    "# Predict the values from the validation dataset\n",
    "Y_pred = model.predict(X_val)\n",
    "# Convert predictions classes to one hot vectors \n",
    "Y_pred_classes = np.argmax(Y_pred,axis = 1) \n",
    "# Convert validation observations to one hot vectors\n",
    "Y_true = np.argmax(Y_val,axis = 1) \n",
    "# compute the confusion matrix\n",
    "confusion_mtx = confusion_matrix(Y_true, Y_pred_classes) \n",
    "# plot the confusion matrix\n",
    "plot_confusion_matrix(confusion_mtx, classes = range(10)) "
   ]
  },
  {
   "cell_type": "code",
   "execution_count": 32,
   "id": "60acd4ea",
   "metadata": {},
   "outputs": [
    {
     "data": {
      "image/png": "[encoded data removed]",
      "text/plain": [
       "<Figure size 576x396 with 9 Axes>"
      ]
     },
     "metadata": {},
     "output_type": "display_data"
    }
   ],
   "source": [
    "# Show some wrong results, and the difference between the predicted label and the real labe\n",
    "errors = (Y_pred_classes - Y_true != 0)\n",
    "\n",
    "Y_pred_classes_errors = Y_pred_classes[errors]\n",
    "Y_pred_errors = Y_pred[errors]\n",
    "Y_true_errors = Y_true[errors]\n",
    "X_val_errors = X_val[errors]\n",
    "\n",
    "def display_errors(errors_index,img_errors,pred_errors, obs_errors):\n",
    "    \"\"\" This function shows 6 images with their predicted and real labels\"\"\"\n",
    "    n = 0\n",
    "    nrows = 3\n",
    "    ncols = 3\n",
    "    fig, ax = plt.subplots(nrows,ncols,sharex=True,sharey=True)\n",
    "    for row in range(nrows):\n",
    "        for col in range(ncols):\n",
    "            error = errors_index[n]\n",
    "            ax[row,col].imshow((img_errors[error]).reshape((28,28)))\n",
    "            ax[row,col].set_title(\"Predicted label :{}\\nTrue label :{}\".format(pred_errors[error],obs_errors[error]))\n",
    "            n += 1\n",
    "\n",
    "# Probabilities of the wrong predicted numbers\n",
    "Y_pred_errors_prob = np.max(Y_pred_errors,axis = 1)\n",
    "\n",
    "# Predicted probabilities of the true values in the error set\n",
    "true_prob_errors = np.diagonal(np.take(Y_pred_errors, Y_true_errors, axis=1))\n",
    "\n",
    "# Difference between the probability of the predicted label and the true label\n",
    "delta_pred_true_errors = Y_pred_errors_prob - true_prob_errors\n",
    "\n",
    "# Sorted list of the delta prob errors\n",
    "sorted_dela_errors = np.argsort(delta_pred_true_errors)\n",
    "\n",
    "# Top 6 errors \n",
    "most_important_errors = sorted_dela_errors\n",
    "\n",
    "# Show the top 6 errors\n",
    "display_errors(most_important_errors, X_val_errors, Y_pred_classes_errors, Y_true_errors)"
   ]
  },
  {
   "cell_type": "code",
   "execution_count": 33,
   "id": "8de03cbf",
   "metadata": {},
   "outputs": [],
   "source": [
    "yhat_train = model.predict(X_train)\n",
    "yhat_train_classes = np.argmax(yhat_train,axis = 1) \n",
    "yhat_val = model.predict(X_val)\n",
    "yhat_val_classes = np.argmax(yhat_val,axis = 1) \n",
    "y_train = np.argmax(Y_train,axis = 1) \n",
    "y_val = np.argmax(Y_val,axis = 1) "
   ]
  },
  {
   "cell_type": "code",
   "execution_count": 34,
   "id": "1391610f",
   "metadata": {},
   "outputs": [
    {
     "data": {
      "image/png": "[encoded data removed]",
      "text/plain": [
       "<Figure size 576x396 with 1 Axes>"
      ]
     },
     "metadata": {},
     "output_type": "display_data"
    }
   ],
   "source": [
    "# summarize history for accuracy\n",
    "plt.plot(history.history['accuracy'])\n",
    "plt.plot(history.history['val_accuracy'])\n",
    "plt.title('model accuracy')\n",
    "plt.ylabel('accuracy')\n",
    "plt.xlabel('epoch')\n",
    "plt.legend(['train', 'test'], loc='upper left')\n",
    "plt.show()"
   ]
  },
  {
   "cell_type": "code",
   "execution_count": 35,
   "id": "0929a2f1",
   "metadata": {},
   "outputs": [
    {
     "data": {
      "image/png": "[encoded data removed]",
      "text/plain": [
       "<Figure size 576x396 with 1 Axes>"
      ]
     },
     "metadata": {},
     "output_type": "display_data"
    }
   ],
   "source": [
    "# summarize history for loss\n",
    "plt.plot(history.history['loss'])\n",
    "plt.plot(history.history['val_loss'])\n",
    "plt.title('model loss')\n",
    "plt.ylabel('loss')\n",
    "plt.xlabel('epoch')\n",
    "plt.legend(['train', 'test'], loc='upper left')\n",
    "plt.show()"
   ]
  },
  {
   "cell_type": "code",
   "execution_count": 36,
   "id": "ddaa66a8",
   "metadata": {},
   "outputs": [
    {
     "name": "stdout",
     "output_type": "stream",
     "text": [
      "Training Accuracy : 99.947%\n",
      "Validation Accuracy : 99.476%\n"
     ]
    }
   ],
   "source": [
    "print(f'Training Accuracy : {(accuracy_score(yhat_train_classes, y_train)*100):.5}%')\n",
    "print(f'Validation Accuracy : {(accuracy_score(yhat_val_classes, y_val)*100):.5}%')"
   ]
  },
  {
   "cell_type": "code",
   "execution_count": 37,
   "id": "f3effe0c",
   "metadata": {},
   "outputs": [],
   "source": [
    "test = pd.read_csv('../test.csv')\n",
    "# test=test/255\n",
    "# #Standardize training before PCA\n",
    "# X_std_test = StandardScaler().fit_transform(test.values)\n",
    "# pca = PCA(200)\n",
    "# decom_test = pca.fit_transform(X_std_test)\n",
    "# recon_test = pca.inverse_transform(decom_test)"
   ]
  },
  {
   "cell_type": "code",
   "execution_count": 38,
   "id": "3f53b569",
   "metadata": {},
   "outputs": [],
   "source": [
    "# recon_test = recon_test.reshape(-1,28,28,1)\n",
    "# Make predictions about test sets\n",
    "\n",
    "# test_decom = pca.transform(test_std)\n",
    "# test_recon = pca.inverse_transform(test_decom)\n",
    "# test_recon = StdSc_2.transform(test_recon)\n",
    "test = test.to_numpy().reshape(-1,28,28,1)\n",
    "test = stdsc.transform(test)\n",
    "results = model.predict(test)\n",
    "\n",
    "# Convert one-hot vector to number\n",
    "results = np.argmax(results,axis = 1)\n",
    "\n",
    "results = pd.Series(results,name=\"Label\")"
   ]
  },
  {
   "cell_type": "code",
   "execution_count": 39,
   "id": "3222761a",
   "metadata": {},
   "outputs": [],
   "source": [
    "# Save the final result in cnn_mnist_submission.csv\n",
    "submission = pd.concat([pd.Series(range(1,28001),name = \"ImageId\"),results],axis = 1)\n",
    "\n",
    "submission.to_csv(\"submission_v16.csv\",index=False)"
   ]
  },
  {
   "cell_type": "code",
   "execution_count": 40,
   "id": "f65930fc",
   "metadata": {},
   "outputs": [
    {
     "data": {
      "text/html": [
       "<div>\n",
       "<style scoped>\n",
       "    .dataframe tbody tr th:only-of-type {\n",
       "        vertical-align: middle;\n",
       "    }\n",
       "\n",
       "    .dataframe tbody tr th {\n",
       "        vertical-align: top;\n",
       "    }\n",
       "\n",
       "    .dataframe thead th {\n",
       "        text-align: right;\n",
       "    }\n",
       "</style>\n",
       "<table border=\"1\" class=\"dataframe\">\n",
       "  <thead>\n",
       "    <tr style=\"text-align: right;\">\n",
       "      <th></th>\n",
       "      <th>ImageId</th>\n",
       "      <th>Label</th>\n",
       "    </tr>\n",
       "  </thead>\n",
       "  <tbody>\n",
       "    <tr>\n",
       "      <th>0</th>\n",
       "      <td>1</td>\n",
       "      <td>2</td>\n",
       "    </tr>\n",
       "    <tr>\n",
       "      <th>1</th>\n",
       "      <td>2</td>\n",
       "      <td>0</td>\n",
       "    </tr>\n",
       "    <tr>\n",
       "      <th>2</th>\n",
       "      <td>3</td>\n",
       "      <td>9</td>\n",
       "    </tr>\n",
       "    <tr>\n",
       "      <th>3</th>\n",
       "      <td>4</td>\n",
       "      <td>0</td>\n",
       "    </tr>\n",
       "    <tr>\n",
       "      <th>4</th>\n",
       "      <td>5</td>\n",
       "      <td>3</td>\n",
       "    </tr>\n",
       "  </tbody>\n",
       "</table>\n",
       "</div>"
      ],
      "text/plain": [
       "   ImageId  Label\n",
       "0        1      2\n",
       "1        2      0\n",
       "2        3      9\n",
       "3        4      0\n",
       "4        5      3"
      ]
     },
     "execution_count": 40,
     "metadata": {},
     "output_type": "execute_result"
    }
   ],
   "source": [
    "submission.head()"
   ]
  },
  {
   "cell_type": "code",
   "execution_count": null,
   "id": "5e6b3bc9",
   "metadata": {},
   "outputs": [],
   "source": []
  }
 ],
 "metadata": {
  "kernelspec": {
   "display_name": "Python 3 (ipykernel)",
   "language": "python",
   "name": "python3"
  },
  "language_info": {
   "codemirror_mode": {
    "name": "ipython",
    "version": 3
   },
   "file_extension": ".py",
   "mimetype": "text/x-python",
   "name": "python",
   "nbconvert_exporter": "python",
   "pygments_lexer": "ipython3",
   "version": "3.9.6"
  }
 },
 "nbformat": 4,
 "nbformat_minor": 5
}
