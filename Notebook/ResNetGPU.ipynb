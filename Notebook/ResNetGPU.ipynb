{
 "cells": [
  {
   "cell_type": "markdown",
   "id": "162c8b7c",
   "metadata": {},
   "source": [
    "## Import Libraries"
   ]
  },
  {
   "cell_type": "code",
   "execution_count": 1,
   "id": "c4b3a000",
   "metadata": {},
   "outputs": [],
   "source": [
    "import numpy as np\n",
    "import pandas as pd\n",
    "import matplotlib.pyplot as plt\n",
    "%matplotlib inline\n",
    "plt.style.use('seaborn')\n",
    "import seaborn as sns"
   ]
  },
  {
   "cell_type": "code",
   "execution_count": 2,
   "id": "1577c527",
   "metadata": {},
   "outputs": [],
   "source": [
    "from sklearn.model_selection import train_test_split\n",
    "from sklearn.preprocessing import StandardScaler, MinMaxScaler\n",
    "from sklearn.metrics import confusion_matrix\n",
    "import tensorflow as tf\n",
    "from tensorflow import keras"
   ]
  },
  {
   "cell_type": "code",
   "execution_count": 3,
   "id": "1f893292",
   "metadata": {},
   "outputs": [],
   "source": [
    "from keras import Sequential\n",
    "from keras.layers import BatchNormalization, Dropout, Flatten, Conv2D, MaxPool2D, Dense, Input, ZeroPadding2D, Activation, MaxPooling2D, Add,AveragePooling2D\n",
    "from keras.initializers import glorot_uniform\n",
    "from tensorflow.keras.optimizers import RMSprop\n",
    "from keras.datasets import mnist\n",
    "from keras import Model"
   ]
  },
  {
   "cell_type": "code",
   "execution_count": 4,
   "id": "1ebf2e76",
   "metadata": {},
   "outputs": [],
   "source": [
    "from keras.preprocessing.image import ImageDataGenerator\n",
    "from sklearn.metrics import accuracy_score"
   ]
  },
  {
   "cell_type": "code",
   "execution_count": 5,
   "id": "8c37901a",
   "metadata": {},
   "outputs": [
    {
     "data": {
      "text/plain": [
       "[PhysicalDevice(name='/physical_device:GPU:0', device_type='GPU')]"
      ]
     },
     "execution_count": 5,
     "metadata": {},
     "output_type": "execute_result"
    }
   ],
   "source": [
    "from tensorflow.python.client import device_lib\n",
    "tf.config.list_physical_devices('GPU')"
   ]
  },
  {
   "cell_type": "markdown",
   "id": "9fe607ff",
   "metadata": {},
   "source": [
    "## Import Dataset\n"
   ]
  },
  {
   "cell_type": "code",
   "execution_count": 6,
   "id": "c6595654",
   "metadata": {},
   "outputs": [],
   "source": [
    "train = pd.read_csv('../train.csv')\n",
    "test = pd.read_csv('../test.csv')"
   ]
  },
  {
   "cell_type": "code",
   "execution_count": 7,
   "id": "5f4e95e4",
   "metadata": {},
   "outputs": [
    {
     "data": {
      "text/html": [
       "<div>\n",
       "<style scoped>\n",
       "    .dataframe tbody tr th:only-of-type {\n",
       "        vertical-align: middle;\n",
       "    }\n",
       "\n",
       "    .dataframe tbody tr th {\n",
       "        vertical-align: top;\n",
       "    }\n",
       "\n",
       "    .dataframe thead th {\n",
       "        text-align: right;\n",
       "    }\n",
       "</style>\n",
       "<table border=\"1\" class=\"dataframe\">\n",
       "  <thead>\n",
       "    <tr style=\"text-align: right;\">\n",
       "      <th></th>\n",
       "      <th>label</th>\n",
       "      <th>pixel0</th>\n",
       "      <th>pixel1</th>\n",
       "      <th>pixel2</th>\n",
       "      <th>pixel3</th>\n",
       "      <th>pixel4</th>\n",
       "      <th>pixel5</th>\n",
       "      <th>pixel6</th>\n",
       "      <th>pixel7</th>\n",
       "      <th>pixel8</th>\n",
       "      <th>...</th>\n",
       "      <th>pixel774</th>\n",
       "      <th>pixel775</th>\n",
       "      <th>pixel776</th>\n",
       "      <th>pixel777</th>\n",
       "      <th>pixel778</th>\n",
       "      <th>pixel779</th>\n",
       "      <th>pixel780</th>\n",
       "      <th>pixel781</th>\n",
       "      <th>pixel782</th>\n",
       "      <th>pixel783</th>\n",
       "    </tr>\n",
       "  </thead>\n",
       "  <tbody>\n",
       "    <tr>\n",
       "      <th>0</th>\n",
       "      <td>1</td>\n",
       "      <td>0</td>\n",
       "      <td>0</td>\n",
       "      <td>0</td>\n",
       "      <td>0</td>\n",
       "      <td>0</td>\n",
       "      <td>0</td>\n",
       "      <td>0</td>\n",
       "      <td>0</td>\n",
       "      <td>0</td>\n",
       "      <td>...</td>\n",
       "      <td>0</td>\n",
       "      <td>0</td>\n",
       "      <td>0</td>\n",
       "      <td>0</td>\n",
       "      <td>0</td>\n",
       "      <td>0</td>\n",
       "      <td>0</td>\n",
       "      <td>0</td>\n",
       "      <td>0</td>\n",
       "      <td>0</td>\n",
       "    </tr>\n",
       "    <tr>\n",
       "      <th>1</th>\n",
       "      <td>0</td>\n",
       "      <td>0</td>\n",
       "      <td>0</td>\n",
       "      <td>0</td>\n",
       "      <td>0</td>\n",
       "      <td>0</td>\n",
       "      <td>0</td>\n",
       "      <td>0</td>\n",
       "      <td>0</td>\n",
       "      <td>0</td>\n",
       "      <td>...</td>\n",
       "      <td>0</td>\n",
       "      <td>0</td>\n",
       "      <td>0</td>\n",
       "      <td>0</td>\n",
       "      <td>0</td>\n",
       "      <td>0</td>\n",
       "      <td>0</td>\n",
       "      <td>0</td>\n",
       "      <td>0</td>\n",
       "      <td>0</td>\n",
       "    </tr>\n",
       "    <tr>\n",
       "      <th>2</th>\n",
       "      <td>1</td>\n",
       "      <td>0</td>\n",
       "      <td>0</td>\n",
       "      <td>0</td>\n",
       "      <td>0</td>\n",
       "      <td>0</td>\n",
       "      <td>0</td>\n",
       "      <td>0</td>\n",
       "      <td>0</td>\n",
       "      <td>0</td>\n",
       "      <td>...</td>\n",
       "      <td>0</td>\n",
       "      <td>0</td>\n",
       "      <td>0</td>\n",
       "      <td>0</td>\n",
       "      <td>0</td>\n",
       "      <td>0</td>\n",
       "      <td>0</td>\n",
       "      <td>0</td>\n",
       "      <td>0</td>\n",
       "      <td>0</td>\n",
       "    </tr>\n",
       "    <tr>\n",
       "      <th>3</th>\n",
       "      <td>4</td>\n",
       "      <td>0</td>\n",
       "      <td>0</td>\n",
       "      <td>0</td>\n",
       "      <td>0</td>\n",
       "      <td>0</td>\n",
       "      <td>0</td>\n",
       "      <td>0</td>\n",
       "      <td>0</td>\n",
       "      <td>0</td>\n",
       "      <td>...</td>\n",
       "      <td>0</td>\n",
       "      <td>0</td>\n",
       "      <td>0</td>\n",
       "      <td>0</td>\n",
       "      <td>0</td>\n",
       "      <td>0</td>\n",
       "      <td>0</td>\n",
       "      <td>0</td>\n",
       "      <td>0</td>\n",
       "      <td>0</td>\n",
       "    </tr>\n",
       "    <tr>\n",
       "      <th>4</th>\n",
       "      <td>0</td>\n",
       "      <td>0</td>\n",
       "      <td>0</td>\n",
       "      <td>0</td>\n",
       "      <td>0</td>\n",
       "      <td>0</td>\n",
       "      <td>0</td>\n",
       "      <td>0</td>\n",
       "      <td>0</td>\n",
       "      <td>0</td>\n",
       "      <td>...</td>\n",
       "      <td>0</td>\n",
       "      <td>0</td>\n",
       "      <td>0</td>\n",
       "      <td>0</td>\n",
       "      <td>0</td>\n",
       "      <td>0</td>\n",
       "      <td>0</td>\n",
       "      <td>0</td>\n",
       "      <td>0</td>\n",
       "      <td>0</td>\n",
       "    </tr>\n",
       "  </tbody>\n",
       "</table>\n",
       "<p>5 rows × 785 columns</p>\n",
       "</div>"
      ],
      "text/plain": [
       "   label  pixel0  pixel1  pixel2  pixel3  pixel4  pixel5  pixel6  pixel7  \\\n",
       "0      1       0       0       0       0       0       0       0       0   \n",
       "1      0       0       0       0       0       0       0       0       0   \n",
       "2      1       0       0       0       0       0       0       0       0   \n",
       "3      4       0       0       0       0       0       0       0       0   \n",
       "4      0       0       0       0       0       0       0       0       0   \n",
       "\n",
       "   pixel8  ...  pixel774  pixel775  pixel776  pixel777  pixel778  pixel779  \\\n",
       "0       0  ...         0         0         0         0         0         0   \n",
       "1       0  ...         0         0         0         0         0         0   \n",
       "2       0  ...         0         0         0         0         0         0   \n",
       "3       0  ...         0         0         0         0         0         0   \n",
       "4       0  ...         0         0         0         0         0         0   \n",
       "\n",
       "   pixel780  pixel781  pixel782  pixel783  \n",
       "0         0         0         0         0  \n",
       "1         0         0         0         0  \n",
       "2         0         0         0         0  \n",
       "3         0         0         0         0  \n",
       "4         0         0         0         0  \n",
       "\n",
       "[5 rows x 785 columns]"
      ]
     },
     "execution_count": 7,
     "metadata": {},
     "output_type": "execute_result"
    }
   ],
   "source": [
    "train.head()"
   ]
  },
  {
   "cell_type": "code",
   "execution_count": 8,
   "id": "9735877e",
   "metadata": {},
   "outputs": [],
   "source": [
    "y = train.label\n",
    "train = train.drop(columns='label')"
   ]
  },
  {
   "cell_type": "markdown",
   "id": "d06098d6",
   "metadata": {},
   "source": [
    "### ResNet"
   ]
  },
  {
   "cell_type": "code",
   "execution_count": 9,
   "id": "98f088ec",
   "metadata": {},
   "outputs": [],
   "source": [
    "# GRADED FUNCTION: identity_block\n",
    "\n",
    "def identity_block(X, f, filters, stage, block):\n",
    "    \"\"\"\n",
    "    Implementation of the identity block as defined in Figure 4\n",
    "    \n",
    "    Arguments:\n",
    "    X -- input tensor of shape (m, n_H_prev, n_W_prev, n_C_prev)\n",
    "    f -- integer, specifying the shape of the middle CONV's window for the main path\n",
    "    filters -- python list of integers, defining the number of filters in the CONV layers of the main path\n",
    "    stage -- integer, used to name the layers, depending on their position in the network\n",
    "    block -- string/character, used to name the layers, depending on their position in the network\n",
    "    \n",
    "    Returns:\n",
    "    X -- output of the identity block, tensor of shape (n_H, n_W, n_C)\n",
    "    \"\"\"\n",
    "    \n",
    "    # defining name basis\n",
    "    conv_name_base = 'res' + str(stage) + block + '_branch'\n",
    "    bn_name_base = 'bn' + str(stage) + block + '_branch'\n",
    "    \n",
    "    # Retrieve Filters\n",
    "    F1, F2, F3 = filters\n",
    "    \n",
    "    # Save the input value. You'll need this later to add back to the main path. \n",
    "    X_shortcut = X\n",
    "    \n",
    "    # First component of main path\n",
    "    X = Conv2D(filters = F1, kernel_size = (1, 1), strides = (1,1), padding = 'same', name = conv_name_base + '2a', kernel_initializer = glorot_uniform(seed=0))(X)\n",
    "    X = BatchNormalization(axis = 3, name = bn_name_base + '2a')(X)\n",
    "    X = Activation('relu')(X)\n",
    "    \n",
    "    ### START CODE HERE ###\n",
    "    \n",
    "    # Second component of main path (≈3 lines)\n",
    "    X = Conv2D(filters = F2, kernel_size = (f, f), strides = (1, 1), padding = 'same', name = conv_name_base + '2b', kernel_initializer = glorot_uniform(seed=0))(X)\n",
    "    X = BatchNormalization(axis = 3, name = bn_name_base + '2b')(X)\n",
    "    X = Activation('relu')(X)\n",
    "\n",
    "    # Third component of main path (≈2 lines)\n",
    "    X = Conv2D(filters = F3, kernel_size = (1, 1), strides = (1, 1), padding = 'same', name = conv_name_base + '2c', kernel_initializer = glorot_uniform(seed=0))(X)\n",
    "    X = BatchNormalization(axis = 3, name = bn_name_base + '2c')(X)\n",
    "\n",
    "    # Final step: Add shortcut value to main path, and pass it through a RELU activation (≈2 lines)\n",
    "    X = Add()([X, X_shortcut])\n",
    "    X = Activation('relu')(X)\n",
    "    \n",
    "    ### END CODE HERE ###\n",
    "    \n",
    "    return X"
   ]
  },
  {
   "cell_type": "code",
   "execution_count": 10,
   "id": "f6f3b72d",
   "metadata": {},
   "outputs": [],
   "source": [
    "def convolutional_block(X, f, filters, stage, block, s = 1):\n",
    "    \"\"\"\n",
    "    Implementation of the convolutional block as defined in Figure 4\n",
    "    \n",
    "    Arguments:\n",
    "    X -- input tensor of shape (m, n_H_prev, n_W_prev, n_C_prev)\n",
    "    f -- integer, specifying the shape of the middle CONV's window for the main path\n",
    "    filters -- python list of integers, defining the number of filters in the CONV layers of the main path\n",
    "    stage -- integer, used to name the layers, depending on their position in the network\n",
    "    block -- string/character, used to name the layers, depending on their position in the network\n",
    "    s -- Integer, specifying the stride to be used\n",
    "    \n",
    "    Returns:\n",
    "    X -- output of the convolutional block, tensor of shape (n_H, n_W, n_C)\n",
    "    \"\"\"\n",
    "    \n",
    "    # defining name basis\n",
    "    conv_name_base = 'res' + str(stage) + block + '_branch'\n",
    "    bn_name_base = 'bn' + str(stage) + block + '_branch'\n",
    "    \n",
    "    # Retrieve Filters\n",
    "    F1, F2, F3 = filters\n",
    "    \n",
    "    # Save the input value\n",
    "    X_shortcut = X\n",
    "\n",
    "\n",
    "    ##### MAIN PATH #####\n",
    "    # First component of main path \n",
    "    X = Conv2D(F1, (1, 1), strides = (s,s), padding = 'same', name = conv_name_base + '2a', kernel_initializer = glorot_uniform(seed=0))(X)\n",
    "    X = BatchNormalization(axis = 3, name = bn_name_base + '2a')(X)\n",
    "    X = Activation('relu')(X)\n",
    "    \n",
    "    ### START CODE HERE ###\n",
    "\n",
    "    # Second component of main path (≈3 lines)\n",
    "#     Conv2D(filters = , kernelsize = , strides = , name = , kernel_initializer = glorot_uniform(seed=0))\n",
    "    X = Conv2D(F2, (f,f), strides =(1,1), padding = 'same', name = conv_name_base+'2b', kernel_initializer = glorot_uniform(seed=0))(X)\n",
    "#   BatchNormalization(axis=, name=)\n",
    "    X = BatchNormalization(axis = 3, name = bn_name_base+'2b')(X)\n",
    "    X = Activation('relu')(X)\n",
    "\n",
    "    # Third component of main path (≈2 lines)\n",
    "    X = Conv2D(F3, (1,1), strides = (1,1), padding = 'same', name = conv_name_base+'2c', kernel_initializer = glorot_uniform(seed=0))(X)\n",
    "    X = BatchNormalization(axis = 3, name = bn_name_base+'2c')(X)\n",
    "\n",
    "    ##### SHORTCUT PATH #### (≈2 lines)\n",
    "    X_shortcut = Conv2D(F3, (1,1), strides = (s,s), padding = 'same', name = conv_name_base+'1', kernel_initializer = glorot_uniform(seed=0))(X_shortcut)\n",
    "    X_shortcut = BatchNormalization(axis = 3, name = bn_name_base+'1')(X_shortcut)\n",
    "\n",
    "    # Final step: Add shortcut value to main path, and pass it through a RELU activation (≈2 lines)\n",
    "    X = Add()([X_shortcut, X])\n",
    "    X = Activation('relu')(X)\n",
    "    \n",
    "    ### END CODE HERE ###\n",
    "    \n",
    "    return X"
   ]
  },
  {
   "cell_type": "code",
   "execution_count": 11,
   "id": "9ea5bc56",
   "metadata": {},
   "outputs": [],
   "source": [
    "# GRADED FUNCTION: ResNet50\n",
    "\n",
    "def ResNet50(input_shape = (28, 28, 1), classes = 10):\n",
    "    \"\"\"\n",
    "    Implementation of the popular ResNet50 the following architecture:\n",
    "    CONV2D -> BATCHNORM -> RELU -> MAXPOOL -> CONVBLOCK -> IDBLOCK*2 -> CONVBLOCK -> IDBLOCK*3\n",
    "    -> CONVBLOCK -> IDBLOCK*5 -> CONVBLOCK -> IDBLOCK*2 -> AVGPOOL -> TOPLAYER\n",
    "\n",
    "    Arguments:\n",
    "    input_shape -- shape of the images of the dataset\n",
    "    classes -- integer, number of classes\n",
    "\n",
    "    Returns:\n",
    "    model -- a Model() instance in Keras\n",
    "    \"\"\"\n",
    "    \n",
    "    # Define the input as a tensor with shape input_shape\n",
    "    X_input = Input(input_shape)\n",
    "\n",
    "    \n",
    "    # Zero-Padding\n",
    "    X = ZeroPadding2D((3, 3))(X_input)\n",
    "    \n",
    "    # Stage 1\n",
    "    X = Conv2D(64, (7, 7), strides = (2, 2), name = 'conv1', kernel_initializer = glorot_uniform(seed=0))(X)\n",
    "    X = BatchNormalization(axis = 3, name = 'bn_conv1')(X)\n",
    "    X = Activation('relu')(X)\n",
    "    X = MaxPooling2D((3, 3), strides=(2, 2))(X)\n",
    "\n",
    "    # Stage 2\n",
    "    X = convolutional_block(X, f = 3, filters = [64, 64, 128], stage = 2, block='a', s = 1)\n",
    "    X = identity_block(X, 3, [64, 64, 128], stage=2, block='b')\n",
    "    X = identity_block(X, 3, [64, 64, 128], stage=2, block='c')\n",
    "    X = identity_block(X, 3, [64, 64, 128], stage = 2, block='d')\n",
    "\n",
    "    ### START CODE HERE ###\n",
    "\n",
    "    # Stage 3 (≈4 lines)\n",
    "#     The convolutional block uses three sets of filters of size [128,128,512], \"f\" is 3, \"s\" is 2 and the block is \"a\".\n",
    "#     The 3 identity blocks use three sets of filters of size [128,128,512], \"f\" is 3 and the blocks are \"b\", \"c\" and \"d\".\n",
    "    X = convolutional_block(X, f = 3, filters = [64, 64, 128], stage = 3, block = 'a', s = 1)\n",
    "    X = identity_block(X, 3, [64, 64, 128], stage = 3, block='b')\n",
    "    X = identity_block(X, 3, [64, 64, 128], stage = 3, block='c')\n",
    "    X = identity_block(X, 3, [64, 64, 128], stage = 3, block='d')\n",
    "\n",
    "    # Stage 4 (≈6 lines)\n",
    "#     The convolutional block uses three sets of filters of size [256, 256, 1024], \"f\" is 3, \"s\" is 2 and the block is \"a\".\n",
    "#     The 5 identity blocks use three sets of filters of size [256, 256, 1024], \"f\" is 3 and the blocks are \"b\", \"c\", \"d\", \"e\" and \"f\".\n",
    "    X = convolutional_block(X, f = 3, filters = [64, 64, 256], stage = 4, block = 'a', s = 1)\n",
    "    X = identity_block(X, 3, [64, 64, 256], stage = 4, block='b')\n",
    "    X = identity_block(X, 3, [64, 64, 256], stage = 4, block='c')\n",
    "    X = identity_block(X, 3, [64, 64, 256], stage = 4, block='d')\n",
    "#     X = identity_block(X, 3, [256, 256, 1024], stage = 4, block='e')\n",
    "#     X = identity_block(X, 3, [256, 256, 1024], stage = 4, block='f')\n",
    "\n",
    "    # Stage 5 (≈3 lines)\n",
    "#     The convolutional block uses three sets of filters of size [512, 512, 2048], \"f\" is 3, \"s\" is 2 and the block is \"a\".\n",
    "#     The 2 identity blocks use three sets of filters of size [512, 512, 2048], \"f\" is 3 and the blocks are \"b\" and \"c\".\n",
    "#     X = convolutional_block(X, f = 3, filters = [512, 512, 2048], stage = 5, block = 'a', s = 1)\n",
    "#     X = identity_block(X, 3, [512, 512, 2048], stage = 5, block='b')\n",
    "#     X = identity_block(X, 3, [512, 512, 2048], stage = 5, block='c')\n",
    "\n",
    "    # AVGPOOL (≈1 line). Use \"X = AveragePooling2D(...)(X)\"\n",
    "    X = AveragePooling2D(pool_size=(2, 2), name='avg_pool')(X)\n",
    "    \n",
    "    ### END CODE HERE ###\n",
    "\n",
    "    # output layer\n",
    "    X = Flatten()(X)\n",
    "    X = Dense(classes, activation='softmax', name='fc' + str(classes), kernel_initializer = glorot_uniform(seed=0))(X)\n",
    "    \n",
    "    \n",
    "    # Create model\n",
    "    model = Model(inputs = X_input, outputs = X, name='ResNet50')\n",
    "\n",
    "    return model"
   ]
  },
  {
   "cell_type": "code",
   "execution_count": 12,
   "id": "3e9b9fd3",
   "metadata": {},
   "outputs": [],
   "source": [
    "model = ResNet50(input_shape = (28, 28, 1), classes = 10)\n",
    "model.compile(optimizer='adam', loss='categorical_crossentropy', metrics=['accuracy'])"
   ]
  },
  {
   "cell_type": "code",
   "execution_count": 13,
   "id": "ece97617",
   "metadata": {},
   "outputs": [],
   "source": [
    "train = train / 255.0\n",
    "test = test / 255.0\n",
    "\n",
    "train = np.concatenate([train])\n",
    "test = np.concatenate([test])"
   ]
  },
  {
   "cell_type": "code",
   "execution_count": 14,
   "id": "7158d38e",
   "metadata": {},
   "outputs": [],
   "source": [
    "train = train.reshape(-1,28,28,1)\n",
    "test = test.reshape(-1,28,28,1)"
   ]
  },
  {
   "cell_type": "code",
   "execution_count": 15,
   "id": "80067ffb",
   "metadata": {},
   "outputs": [],
   "source": [
    "from keras.utils.np_utils import to_categorical # convert to one-hot-encoding"
   ]
  },
  {
   "cell_type": "code",
   "execution_count": 16,
   "id": "e3da2c66",
   "metadata": {},
   "outputs": [],
   "source": [
    "# Convert label to one hot vectors (ex : 2 -> [0,0,1,0,0,0,0,0,0,0])\n",
    "y = to_categorical(y, num_classes = 10)\n",
    "# Split dataset into training set and validation set\n",
    "X_train, X_val, Y_train, Y_val = train_test_split(train, y, test_size = 0.1, random_state=2)"
   ]
  },
  {
   "cell_type": "code",
   "execution_count": 17,
   "id": "7e95cbb6",
   "metadata": {},
   "outputs": [],
   "source": [
    "#Data Augmentation \n",
    "datagen = ImageDataGenerator(\n",
    "        featurewise_center=False, # set input mean to 0 over the dataset\n",
    "        samplewise_center=False,  # set each sample mean to 0\n",
    "        featurewise_std_normalization=False,  # divide inputs by std of the dataset\n",
    "        samplewise_std_normalization=False,  # divide each input by its std\n",
    "        zca_whitening=False,  # apply ZCA whitening\n",
    "        rotation_range=10,  # randomly rotate images in the range (degrees, 0 to 180)\n",
    "        zoom_range = 0.1, # Randomly zoom image \n",
    "        width_shift_range=0.1,  # randomly shift images horizontally (fraction of total width)\n",
    "        height_shift_range=0.1,  # randomly shift images vertically (fraction of total height)\n",
    "        horizontal_flip=False,  # randomly flip images\n",
    "        vertical_flip=False)  # randomly flip images\n",
    "datagen.fit(X_train)"
   ]
  },
  {
   "cell_type": "code",
   "execution_count": 18,
   "id": "702beb99",
   "metadata": {
    "scrolled": true
   },
   "outputs": [
    {
     "data": {
      "image/png": "[encoded data removed]",
      "text/plain": [
       "<Figure size 576x396 with 1 Axes>"
      ]
     },
     "metadata": {},
     "output_type": "display_data"
    }
   ],
   "source": [
    "g = plt.imshow(X_train[189][:,:,0])"
   ]
  },
  {
   "cell_type": "code",
   "execution_count": 19,
   "id": "161dfd02",
   "metadata": {},
   "outputs": [],
   "source": [
    "# from tensorflow.keras.utils import plot_model\n",
    "# plot_model(model, to_file='model.png', show_shapes=True, show_layer_names=True)\n",
    "# # from IPython.display import Image\n",
    "# # Image(\"model.png\")"
   ]
  },
  {
   "cell_type": "code",
   "execution_count": 20,
   "id": "ceadaca1",
   "metadata": {},
   "outputs": [
    {
     "data": {
      "text/plain": [
       "(37800, 10)"
      ]
     },
     "execution_count": 20,
     "metadata": {},
     "output_type": "execute_result"
    }
   ],
   "source": [
    "Y_train.shape"
   ]
  },
  {
   "cell_type": "code",
   "execution_count": 21,
   "id": "ad49c647",
   "metadata": {},
   "outputs": [
    {
     "data": {
      "text/plain": [
       "(4200, 10)"
      ]
     },
     "execution_count": 21,
     "metadata": {},
     "output_type": "execute_result"
    }
   ],
   "source": [
    "Y_val.shape"
   ]
  },
  {
   "cell_type": "code",
   "execution_count": 22,
   "id": "0ba612ba",
   "metadata": {},
   "outputs": [
    {
     "name": "stdout",
     "output_type": "stream",
     "text": [
      "Epoch 1/50\n",
      "590/590 [==============================] - 41s 59ms/step - loss: 0.4243 - accuracy: 0.8750 - val_loss: 0.3903 - val_accuracy: 0.9085\n",
      "Epoch 2/50\n",
      "590/590 [==============================] - 34s 58ms/step - loss: 0.1218 - accuracy: 0.9638 - val_loss: 0.1422 - val_accuracy: 0.9569\n",
      "Epoch 3/50\n",
      "590/590 [==============================] - 36s 61ms/step - loss: 0.0942 - accuracy: 0.9732 - val_loss: 0.1640 - val_accuracy: 0.9488\n",
      "Epoch 4/50\n",
      "590/590 [==============================] - 34s 57ms/step - loss: 0.0786 - accuracy: 0.9774 - val_loss: 0.0698 - val_accuracy: 0.9793\n",
      "Epoch 5/50\n",
      "590/590 [==============================] - 34s 58ms/step - loss: 0.0651 - accuracy: 0.9804 - val_loss: 0.0761 - val_accuracy: 0.9764\n",
      "Epoch 6/50\n",
      "590/590 [==============================] - 34s 58ms/step - loss: 0.0996 - accuracy: 0.9751 - val_loss: 0.2046 - val_accuracy: 0.9519\n",
      "Epoch 7/50\n",
      "590/590 [==============================] - 34s 58ms/step - loss: 0.0529 - accuracy: 0.9846 - val_loss: 0.0532 - val_accuracy: 0.9824\n",
      "Epoch 8/50\n",
      "590/590 [==============================] - 35s 60ms/step - loss: 0.0459 - accuracy: 0.9865 - val_loss: 0.0862 - val_accuracy: 0.9729\n",
      "Epoch 9/50\n",
      "590/590 [==============================] - 35s 60ms/step - loss: 0.0734 - accuracy: 0.9803 - val_loss: 0.1385 - val_accuracy: 0.9659\n",
      "Epoch 10/50\n",
      "590/590 [==============================] - 36s 62ms/step - loss: 0.0461 - accuracy: 0.9864 - val_loss: 0.0405 - val_accuracy: 0.9881\n",
      "Epoch 11/50\n",
      "590/590 [==============================] - 35s 59ms/step - loss: 0.0497 - accuracy: 0.9846 - val_loss: 0.0576 - val_accuracy: 0.9828\n",
      "Epoch 12/50\n",
      "590/590 [==============================] - 34s 58ms/step - loss: 0.0389 - accuracy: 0.9881 - val_loss: 0.0555 - val_accuracy: 0.9849\n",
      "Epoch 13/50\n",
      "590/590 [==============================] - 36s 60ms/step - loss: 0.0576 - accuracy: 0.9839 - val_loss: 0.0323 - val_accuracy: 0.9893\n",
      "Epoch 14/50\n",
      "590/590 [==============================] - 35s 60ms/step - loss: 0.0343 - accuracy: 0.9896 - val_loss: 0.0306 - val_accuracy: 0.9901\n",
      "Epoch 15/50\n",
      "590/590 [==============================] - 37s 62ms/step - loss: 0.0357 - accuracy: 0.9890 - val_loss: 0.0287 - val_accuracy: 0.9914\n",
      "Epoch 16/50\n",
      "590/590 [==============================] - 34s 58ms/step - loss: 0.0351 - accuracy: 0.9898 - val_loss: 0.0291 - val_accuracy: 0.9909\n",
      "Epoch 17/50\n",
      "590/590 [==============================] - 34s 57ms/step - loss: 0.0319 - accuracy: 0.9903 - val_loss: 0.0429 - val_accuracy: 0.9870\n",
      "Epoch 18/50\n",
      "590/590 [==============================] - 34s 58ms/step - loss: 0.0283 - accuracy: 0.9914 - val_loss: 0.0566 - val_accuracy: 0.9828\n",
      "Epoch 19/50\n",
      "590/590 [==============================] - 34s 58ms/step - loss: 0.0470 - accuracy: 0.9869 - val_loss: 0.0304 - val_accuracy: 0.9913\n",
      "Epoch 20/50\n",
      "590/590 [==============================] - 35s 59ms/step - loss: 0.0334 - accuracy: 0.9901 - val_loss: 0.0477 - val_accuracy: 0.9883\n",
      "Epoch 21/50\n",
      "590/590 [==============================] - 35s 58ms/step - loss: 0.0386 - accuracy: 0.9889 - val_loss: 0.0289 - val_accuracy: 0.9905\n",
      "Epoch 22/50\n",
      "590/590 [==============================] - 34s 58ms/step - loss: 0.0268 - accuracy: 0.9923 - val_loss: 0.0294 - val_accuracy: 0.9917\n",
      "Epoch 23/50\n",
      "590/590 [==============================] - 34s 57ms/step - loss: 0.0246 - accuracy: 0.9924 - val_loss: 0.0296 - val_accuracy: 0.9911\n",
      "Epoch 24/50\n",
      "590/590 [==============================] - 35s 58ms/step - loss: 0.0228 - accuracy: 0.9927 - val_loss: 0.0270 - val_accuracy: 0.9917\n",
      "Epoch 25/50\n",
      "590/590 [==============================] - 33s 57ms/step - loss: 0.0238 - accuracy: 0.9931 - val_loss: 0.0460 - val_accuracy: 0.9857\n",
      "Epoch 26/50\n",
      "590/590 [==============================] - 35s 59ms/step - loss: 0.0217 - accuracy: 0.9929 - val_loss: 0.0697 - val_accuracy: 0.9823\n",
      "Epoch 27/50\n",
      "590/590 [==============================] - 36s 60ms/step - loss: 0.0235 - accuracy: 0.9929 - val_loss: 0.0224 - val_accuracy: 0.9932\n",
      "Epoch 28/50\n",
      "590/590 [==============================] - 36s 62ms/step - loss: 0.0275 - accuracy: 0.9918 - val_loss: 0.0195 - val_accuracy: 0.9946\n",
      "Epoch 29/50\n",
      "590/590 [==============================] - 34s 57ms/step - loss: 0.0223 - accuracy: 0.9933 - val_loss: 0.0408 - val_accuracy: 0.9877\n",
      "Epoch 30/50\n",
      "590/590 [==============================] - 37s 62ms/step - loss: 0.0185 - accuracy: 0.9945 - val_loss: 0.0156 - val_accuracy: 0.9952\n",
      "Epoch 31/50\n",
      "590/590 [==============================] - 35s 59ms/step - loss: 0.0185 - accuracy: 0.9941 - val_loss: 0.0169 - val_accuracy: 0.9945\n",
      "Epoch 32/50\n",
      "590/590 [==============================] - 36s 60ms/step - loss: 0.0215 - accuracy: 0.9936 - val_loss: 0.0255 - val_accuracy: 0.9919\n",
      "Epoch 33/50\n",
      "590/590 [==============================] - 36s 61ms/step - loss: 0.0167 - accuracy: 0.9951 - val_loss: 0.0295 - val_accuracy: 0.9913\n",
      "Epoch 34/50\n",
      "590/590 [==============================] - 34s 58ms/step - loss: 0.0182 - accuracy: 0.9947 - val_loss: 0.0126 - val_accuracy: 0.9961\n",
      "Epoch 35/50\n",
      "590/590 [==============================] - 36s 61ms/step - loss: 0.0244 - accuracy: 0.9927 - val_loss: 0.0234 - val_accuracy: 0.9922\n",
      "Epoch 36/50\n",
      "590/590 [==============================] - 36s 61ms/step - loss: 0.0163 - accuracy: 0.9950 - val_loss: 0.0151 - val_accuracy: 0.9952\n",
      "Epoch 37/50\n",
      "590/590 [==============================] - 35s 59ms/step - loss: 0.0171 - accuracy: 0.9943 - val_loss: 0.0158 - val_accuracy: 0.9951\n",
      "Epoch 38/50\n",
      "590/590 [==============================] - 35s 60ms/step - loss: 0.0156 - accuracy: 0.9950 - val_loss: 0.0207 - val_accuracy: 0.9937\n",
      "Epoch 39/50\n",
      "590/590 [==============================] - 35s 59ms/step - loss: 0.0145 - accuracy: 0.9952 - val_loss: 0.0151 - val_accuracy: 0.9949\n",
      "Epoch 40/50\n",
      "590/590 [==============================] - 37s 62ms/step - loss: 0.0162 - accuracy: 0.9947 - val_loss: 0.0184 - val_accuracy: 0.9941\n",
      "Epoch 41/50\n",
      "590/590 [==============================] - 35s 59ms/step - loss: 0.0137 - accuracy: 0.9956 - val_loss: 0.0127 - val_accuracy: 0.9961\n",
      "Epoch 42/50\n",
      "590/590 [==============================] - 36s 61ms/step - loss: 0.0148 - accuracy: 0.9948 - val_loss: 0.0126 - val_accuracy: 0.9958\n",
      "Epoch 43/50\n",
      "590/590 [==============================] - 36s 60ms/step - loss: 0.0127 - accuracy: 0.9959 - val_loss: 0.0117 - val_accuracy: 0.9964\n",
      "Epoch 44/50\n",
      "590/590 [==============================] - 35s 60ms/step - loss: 0.0134 - accuracy: 0.9954 - val_loss: 0.0149 - val_accuracy: 0.9951\n",
      "Epoch 45/50\n",
      "590/590 [==============================] - 37s 62ms/step - loss: 0.0127 - accuracy: 0.9960 - val_loss: 0.0126 - val_accuracy: 0.9957\n",
      "Epoch 46/50\n",
      "590/590 [==============================] - 36s 61ms/step - loss: 0.0124 - accuracy: 0.9959 - val_loss: 0.0126 - val_accuracy: 0.9958\n",
      "Epoch 47/50\n",
      "590/590 [==============================] - 35s 60ms/step - loss: 0.0119 - accuracy: 0.9963 - val_loss: 0.0101 - val_accuracy: 0.9969\n",
      "Epoch 48/50\n",
      "590/590 [==============================] - 36s 61ms/step - loss: 0.0163 - accuracy: 0.9954 - val_loss: 0.0182 - val_accuracy: 0.9941\n",
      "Epoch 49/50\n",
      "590/590 [==============================] - 36s 60ms/step - loss: 0.0181 - accuracy: 0.9949 - val_loss: 0.0117 - val_accuracy: 0.9964\n",
      "Epoch 50/50\n",
      "590/590 [==============================] - 36s 61ms/step - loss: 0.0119 - accuracy: 0.9964 - val_loss: 0.0076 - val_accuracy: 0.9976\n"
     ]
    }
   ],
   "source": [
    "epochs = 50\n",
    "batch_size=64\n",
    "history = model.fit(datagen.flow(X_train, Y_train, batch_size=batch_size),\n",
    "                    validation_data=datagen.flow(X_train, Y_train, batch_size=32),\n",
    "                    steps_per_epoch=len(X_train) / batch_size, epochs=epochs)"
   ]
  },
  {
   "cell_type": "code",
   "execution_count": 23,
   "id": "3c848957",
   "metadata": {},
   "outputs": [
    {
     "data": {
      "image/png": "[encoded data removed]",
      "text/plain": [
       "<Figure size 576x396 with 2 Axes>"
      ]
     },
     "metadata": {},
     "output_type": "display_data"
    }
   ],
   "source": [
    "# Draw a confusion matrix that can be used to observe high false positives\n",
    "import itertools\n",
    "def plot_confusion_matrix(cm, classes,\n",
    "                          normalize=False,\n",
    "                          title='Confusion matrix',\n",
    "                          cmap=plt.cm.Blues):\n",
    "    \"\"\"\n",
    "    This function prints and plots the confusion matrix.\n",
    "    Normalization can be applied by setting `normalize=True`.\n",
    "    \"\"\"\n",
    "    plt.imshow(cm, interpolation='nearest', cmap=cmap)\n",
    "    plt.title(title)\n",
    "    plt.colorbar()\n",
    "    tick_marks = np.arange(len(classes))\n",
    "    plt.xticks(tick_marks, classes, rotation=45)\n",
    "    plt.yticks(tick_marks, classes)\n",
    "\n",
    "    if normalize:\n",
    "        cm = cm.astype('float') / cm.sum(axis=1)[:, np.newaxis]\n",
    "\n",
    "    thresh = cm.max() / 2.\n",
    "    for i, j in itertools.product(range(cm.shape[0]), range(cm.shape[1])):\n",
    "        plt.text(j, i, cm[i, j],\n",
    "                 horizontalalignment=\"center\",\n",
    "                 color=\"white\" if cm[i, j] > thresh else \"black\")\n",
    "\n",
    "    plt.tight_layout()\n",
    "    plt.ylabel('True label')\n",
    "    plt.xlabel('Predicted label')\n",
    "\n",
    "# Predict the values from the validation dataset\n",
    "Y_pred = model.predict(X_val)\n",
    "# Convert predictions classes to one hot vectors \n",
    "Y_pred_classes = np.argmax(Y_pred,axis = 1) \n",
    "# Convert validation observations to one hot vectors\n",
    "Y_true = np.argmax(Y_val,axis = 1) \n",
    "# compute the confusion matrix\n",
    "confusion_mtx = confusion_matrix(Y_true, Y_pred_classes) \n",
    "# plot the confusion matrix\n",
    "plot_confusion_matrix(confusion_mtx, classes = range(10)) "
   ]
  },
  {
   "cell_type": "code",
   "execution_count": 24,
   "id": "60acd4ea",
   "metadata": {},
   "outputs": [
    {
     "data": {
      "image/png": "[encoded data removed]",
      "text/plain": [
       "<Figure size 576x396 with 6 Axes>"
      ]
     },
     "metadata": {},
     "output_type": "display_data"
    }
   ],
   "source": [
    "# Show some wrong results, and the difference between the predicted label and the real labe\n",
    "errors = (Y_pred_classes - Y_true != 0)\n",
    "\n",
    "Y_pred_classes_errors = Y_pred_classes[errors]\n",
    "Y_pred_errors = Y_pred[errors]\n",
    "Y_true_errors = Y_true[errors]\n",
    "X_val_errors = X_val[errors]\n",
    "\n",
    "def display_errors(errors_index,img_errors,pred_errors, obs_errors):\n",
    "    \"\"\" This function shows 6 images with their predicted and real labels\"\"\"\n",
    "    n = 0\n",
    "    nrows = 2\n",
    "    ncols = 3\n",
    "    fig, ax = plt.subplots(nrows,ncols,sharex=True,sharey=True)\n",
    "    for row in range(nrows):\n",
    "        for col in range(ncols):\n",
    "            error = errors_index[n]\n",
    "            ax[row,col].imshow((img_errors[error]).reshape((28,28)))\n",
    "            ax[row,col].set_title(\"Predicted label :{}\\nTrue label :{}\".format(pred_errors[error],obs_errors[error]))\n",
    "            n += 1\n",
    "\n",
    "# Probabilities of the wrong predicted numbers\n",
    "Y_pred_errors_prob = np.max(Y_pred_errors,axis = 1)\n",
    "\n",
    "# Predicted probabilities of the true values in the error set\n",
    "true_prob_errors = np.diagonal(np.take(Y_pred_errors, Y_true_errors, axis=1))\n",
    "\n",
    "# Difference between the probability of the predicted label and the true label\n",
    "delta_pred_true_errors = Y_pred_errors_prob - true_prob_errors\n",
    "\n",
    "# Sorted list of the delta prob errors\n",
    "sorted_dela_errors = np.argsort(delta_pred_true_errors)\n",
    "\n",
    "# Top 6 errors \n",
    "most_important_errors = sorted_dela_errors[-6:]\n",
    "\n",
    "# Show the top 6 errors\n",
    "display_errors(most_important_errors, X_val_errors, Y_pred_classes_errors, Y_true_errors)"
   ]
  },
  {
   "cell_type": "code",
   "execution_count": 25,
   "id": "73b99fb6",
   "metadata": {},
   "outputs": [],
   "source": [
    "# Make predictions about test sets\n",
    "results = model.predict(test)\n",
    "\n",
    "# Convert one-hot vector to number\n",
    "results = np.argmax(results,axis = 1)\n",
    "\n",
    "results = pd.Series(results,name=\"Label\")"
   ]
  },
  {
   "cell_type": "code",
   "execution_count": 32,
   "id": "128e4146",
   "metadata": {},
   "outputs": [],
   "source": [
    "# Save the final result in cnn_mnist_submission.csv\n",
    "submission = pd.concat([pd.Series(range(1,28001),name = \"ImageId\"),results],axis = 1)\n",
    "\n",
    "submission.to_csv(\"submission_v4.csv\",index=False)"
   ]
  },
  {
   "cell_type": "code",
   "execution_count": 33,
   "id": "33d3dff7",
   "metadata": {},
   "outputs": [
    {
     "data": {
      "text/html": [
       "<div>\n",
       "<style scoped>\n",
       "    .dataframe tbody tr th:only-of-type {\n",
       "        vertical-align: middle;\n",
       "    }\n",
       "\n",
       "    .dataframe tbody tr th {\n",
       "        vertical-align: top;\n",
       "    }\n",
       "\n",
       "    .dataframe thead th {\n",
       "        text-align: right;\n",
       "    }\n",
       "</style>\n",
       "<table border=\"1\" class=\"dataframe\">\n",
       "  <thead>\n",
       "    <tr style=\"text-align: right;\">\n",
       "      <th></th>\n",
       "      <th>ImageId</th>\n",
       "      <th>Label</th>\n",
       "    </tr>\n",
       "  </thead>\n",
       "  <tbody>\n",
       "    <tr>\n",
       "      <th>0</th>\n",
       "      <td>1</td>\n",
       "      <td>2</td>\n",
       "    </tr>\n",
       "    <tr>\n",
       "      <th>1</th>\n",
       "      <td>2</td>\n",
       "      <td>0</td>\n",
       "    </tr>\n",
       "    <tr>\n",
       "      <th>2</th>\n",
       "      <td>3</td>\n",
       "      <td>9</td>\n",
       "    </tr>\n",
       "    <tr>\n",
       "      <th>3</th>\n",
       "      <td>4</td>\n",
       "      <td>0</td>\n",
       "    </tr>\n",
       "    <tr>\n",
       "      <th>4</th>\n",
       "      <td>5</td>\n",
       "      <td>3</td>\n",
       "    </tr>\n",
       "  </tbody>\n",
       "</table>\n",
       "</div>"
      ],
      "text/plain": [
       "   ImageId  Label\n",
       "0        1      2\n",
       "1        2      0\n",
       "2        3      9\n",
       "3        4      0\n",
       "4        5      3"
      ]
     },
     "execution_count": 33,
     "metadata": {},
     "output_type": "execute_result"
    }
   ],
   "source": [
    "submission.head()"
   ]
  },
  {
   "cell_type": "code",
   "execution_count": 34,
   "id": "8de03cbf",
   "metadata": {},
   "outputs": [],
   "source": [
    "yhat_train = model.predict(X_train)\n",
    "yhat_train_classes = np.argmax(yhat_train,axis = 1) \n",
    "yhat_val = model.predict(X_val)\n",
    "yhat_val_classes = np.argmax(yhat_val,axis = 1) \n",
    "y_train = np.argmax(Y_train,axis = 1) \n",
    "y_val = np.argmax(Y_val,axis = 1) "
   ]
  },
  {
   "cell_type": "code",
   "execution_count": 44,
   "id": "ddaa66a8",
   "metadata": {},
   "outputs": [
    {
     "name": "stdout",
     "output_type": "stream",
     "text": [
      "Training Accuracy : 99.857%\n",
      "Validation Accuracy : 99.405%\n"
     ]
    }
   ],
   "source": [
    "print(f'Training Accuracy : {(accuracy_score(yhat_train_classes, y_train)*100):.5}%')\n",
    "print(f'Validation Accuracy : {(accuracy_score(yhat_val_classes, y_val)*100):.5}%')"
   ]
  },
  {
   "cell_type": "code",
   "execution_count": null,
   "id": "f3effe0c",
   "metadata": {},
   "outputs": [],
   "source": []
  }
 ],
 "metadata": {
  "kernelspec": {
   "display_name": "gpu2",
   "language": "python",
   "name": "gpu2"
  },
  "language_info": {
   "codemirror_mode": {
    "name": "ipython",
    "version": 3
   },
   "file_extension": ".py",
   "mimetype": "text/x-python",
   "name": "python",
   "nbconvert_exporter": "python",
   "pygments_lexer": "ipython3",
   "version": "3.9.6"
  }
 },
 "nbformat": 4,
 "nbformat_minor": 5
}
